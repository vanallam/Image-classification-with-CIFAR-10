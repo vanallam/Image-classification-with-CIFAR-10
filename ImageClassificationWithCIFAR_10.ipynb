{
  "cells": [
    {
      "cell_type": "markdown",
      "source": [
        "\n",
        "\n",
        "\n",
        "# **Data pipeline**\n",
        "\n",
        "\n",
        "\n",
        "\n",
        "\n"
      ],
      "metadata": {
        "id": "QCFvszs5fcBt"
      }
    },
    {
      "cell_type": "markdown",
      "source": [
        "***Downloading and extracting the CIfAR 10 dataset***"
      ],
      "metadata": {
        "id": "Gdt_yVvHgHDM"
      }
    },
    {
      "cell_type": "code",
      "execution_count": null,
      "metadata": {
        "colab": {
          "base_uri": "https://localhost:8080/"
        },
        "id": "8si7-uh8CmMR",
        "outputId": "8c2a970f-6e30-484f-d3c7-44e08edb45b5"
      },
      "outputs": [
        {
          "output_type": "stream",
          "name": "stdout",
          "text": [
            "--2022-11-10 04:28:08--  https://www.cs.toronto.edu/~kriz/cifar-10-python.tar.gz\n",
            "Resolving www.cs.toronto.edu (www.cs.toronto.edu)... 128.100.3.30\n",
            "Connecting to www.cs.toronto.edu (www.cs.toronto.edu)|128.100.3.30|:443... connected.\n",
            "HTTP request sent, awaiting response... 200 OK\n",
            "Length: 170498071 (163M) [application/x-gzip]\n",
            "Saving to: ‘cifar-10-python.tar.gz’\n",
            "\n",
            "cifar-10-python.tar 100%[===================>] 162.60M  13.8MB/s    in 13s     \n",
            "\n",
            "2022-11-10 04:28:23 (12.1 MB/s) - ‘cifar-10-python.tar.gz’ saved [170498071/170498071]\n",
            "\n"
          ]
        }
      ],
      "source": [
        "!wget https://www.cs.toronto.edu/~kriz/cifar-10-python.tar.gz\n",
        "!tar -xf /content/cifar-10-python.tar.gz "
      ]
    },
    {
      "cell_type": "markdown",
      "source": [
        "***Importing the required libraries***"
      ],
      "metadata": {
        "id": "212uud_Vh7XF"
      }
    },
    {
      "cell_type": "code",
      "execution_count": null,
      "metadata": {
        "id": "BSMGZP4TCmMW"
      },
      "outputs": [],
      "source": [
        "import os\n",
        "import pickle\n",
        "import numpy as np\n",
        "from PIL import Image\n",
        "import tensorflow as tf\n",
        "import random\n",
        "import time\n",
        "import scipy"
      ]
    },
    {
      "cell_type": "markdown",
      "source": [
        "**Unpickle the data**"
      ],
      "metadata": {
        "id": "0n4TDPcAiDOJ"
      }
    },
    {
      "cell_type": "code",
      "execution_count": null,
      "metadata": {
        "id": "O5kM1gHTCmMX"
      },
      "outputs": [],
      "source": [
        "def unpickle(file):\n",
        "    import pickle\n",
        "    with open(file, 'rb') as fo:\n",
        "        dict = pickle.load(fo, encoding='bytes')\n",
        "    return dict"
      ]
    },
    {
      "cell_type": "code",
      "execution_count": null,
      "metadata": {
        "id": "PfeKUIINCmMZ"
      },
      "outputs": [],
      "source": [
        "# The path to data \n",
        "_data_root = \"/content/Data/\""
      ]
    },
    {
      "cell_type": "markdown",
      "source": [
        "Reading the dataset "
      ],
      "metadata": {
        "id": "DdxYdsupiKKQ"
      }
    },
    {
      "cell_type": "code",
      "execution_count": null,
      "metadata": {
        "id": "JAAEOm5GCmMb"
      },
      "outputs": [],
      "source": [
        "def load_data(data_dir):\n",
        "   #load training data \n",
        "    for i in range(1, 6): \n",
        "        filename = data_dir+\"data_batch_\"+str(i) \n",
        "        dictionary = unpickle(filename) \n",
        "        x_data = dictionary[b'data']  \n",
        "        y_data = np.array(dictionary[b\"labels\"])\n",
        "        if i==1:   \n",
        "            x_train = x_data  \n",
        "            y_train= y_data  \n",
        "        else:  \n",
        "            x_train = np.concatenate((x_train, x_data), axis = 0)   \n",
        "            y_train = np.concatenate((y_train, y_data), axis = 0) \n",
        "    #load testing data \n",
        "    filename = data_dir+\"test_batch\" \n",
        "    dictionary = unpickle(filename)\n",
        "    data = dictionary[b\"data\"]\n",
        "    x_test = data \n",
        "    y_test = np.array(dictionary[b\"labels\"]) \n",
        "    return x_train, y_train, x_test, y_test"
      ]
    },
    {
      "cell_type": "markdown",
      "source": [
        "**Splitting the data to training and validation dataset**"
      ],
      "metadata": {
        "id": "s070vP-siY_P"
      }
    },
    {
      "cell_type": "code",
      "execution_count": null,
      "metadata": {
        "scrolled": true,
        "tags": [],
        "id": "gFQnkY73CmMd"
      },
      "outputs": [],
      "source": [
        "def train_valid_split(x_train, y_train, split_index=48000):\n",
        "    x_train_new = x_train[:split_index] \n",
        "    y_train_new = y_train[:split_index] \n",
        "    x_valid = x_train[split_index:] \n",
        "    y_valid = y_train[split_index:]\n",
        "    return x_train_new, y_train_new, x_valid, y_valid"
      ]
    },
    {
      "cell_type": "markdown",
      "source": [
        "**parse our records in the data**:\n",
        "\n",
        "\n",
        "\n",
        "\n",
        "Converting the image format from (n,depth * height * width) to first (n, depth ,height,width) and then to (n, width, height, depth) "
      ],
      "metadata": {
        "id": "vljOJsKCi3yC"
      }
    },
    {
      "cell_type": "code",
      "execution_count": null,
      "metadata": {
        "id": "zhS4c5fACmMe"
      },
      "outputs": [],
      "source": [
        "def parse_record(records):\n",
        "    n = len(records)\n",
        "    depth_major = records.reshape((n,3, 32, 32))\n",
        "    image = np.transpose(depth_major, [0,2, 3, 1])\n",
        "    return image"
      ]
    },
    {
      "cell_type": "code",
      "execution_count": null,
      "metadata": {
        "id": "IJJSCrheCmMh"
      },
      "outputs": [],
      "source": [
        "X_train, Y_train, X_test, Y_test = load_data(_data_root)"
      ]
    },
    {
      "cell_type": "code",
      "execution_count": null,
      "metadata": {
        "id": "xQb0UEb8CmMi"
      },
      "outputs": [],
      "source": [
        "X_train_new, Y_train_new, X_valid, Y_valid = train_valid_split(X_train, Y_train)"
      ]
    },
    {
      "cell_type": "code",
      "execution_count": null,
      "metadata": {
        "scrolled": true,
        "tags": [],
        "id": "amXk7Xx4CmMi"
      },
      "outputs": [],
      "source": [
        "images = parse_record(X_train_new)\n",
        "X_valid = parse_record(X_valid)\n",
        "X_test = parse_record(X_test)"
      ]
    },
    {
      "cell_type": "markdown",
      "source": [
        "**Scale Data**"
      ],
      "metadata": {
        "id": "OSZOvma5jZA4"
      }
    },
    {
      "cell_type": "code",
      "source": [
        "images = images/255\n",
        "X_valid = X_valid/255\n",
        "X_test = X_test/255"
      ],
      "metadata": {
        "id": "05y-mAAXhDnQ"
      },
      "execution_count": null,
      "outputs": []
    },
    {
      "cell_type": "markdown",
      "source": [
        "**Converting labels from integer representation to One hot encoding**\n",
        "\n",
        "we will use \"CategoricalCrossentropy()\" loss function which requires its input to be one hot encoded"
      ],
      "metadata": {
        "id": "7dbrSNZdj19U"
      }
    },
    {
      "cell_type": "code",
      "source": [
        "from keras.utils import np_utils\n",
        "y_train = np_utils.to_categorical(Y_train_new, 10)\n",
        "y_val = np_utils.to_categorical(Y_valid, 10)\n",
        "Y_test = np_utils.to_categorical(Y_test, 10)"
      ],
      "metadata": {
        "id": "EvJzSiuZg5T1"
      },
      "execution_count": null,
      "outputs": []
    },
    {
      "cell_type": "markdown",
      "metadata": {
        "tags": [],
        "id": "X6HbWjtXCmMo"
      },
      "source": [
        "**Showing some data samples**"
      ]
    },
    {
      "cell_type": "code",
      "execution_count": null,
      "metadata": {
        "id": "EN4T7BImCmMp"
      },
      "outputs": [],
      "source": [
        "from matplotlib import pyplot as plt"
      ]
    },
    {
      "cell_type": "code",
      "execution_count": null,
      "metadata": {
        "tags": [],
        "colab": {
          "base_uri": "https://localhost:8080/",
          "height": 101
        },
        "id": "-WeiwtV2CmMq",
        "outputId": "cd15278f-602d-42b3-d18a-ebdec279a51c"
      },
      "outputs": [
        {
          "output_type": "display_data",
          "data": {
            "text/plain": [
              "<Figure size 2304x2304 with 15 Axes>"
            ],
            "image/png": "[encoded data removed]"
          },
          "metadata": {
            "needs_background": "light"
          }
        }
      ],
      "source": [
        "fig, ax = plt.subplots(ncols=15, figsize=(32,32))\n",
        "for i in range(15):\n",
        "    ax[i].imshow(images[i])\n"
      ]
    },
    {
      "cell_type": "markdown",
      "metadata": {
        "id": "l8Nvvsi1CmMt"
      },
      "source": [
        "#Build Deep Learning Model"
      ]
    },
    {
      "cell_type": "code",
      "execution_count": null,
      "metadata": {
        "id": "DVEh5hI1CmMv"
      },
      "outputs": [],
      "source": [
        "from tensorflow.keras.models import Sequential\n",
        "from tensorflow.keras.layers import Conv2D, MaxPooling2D, Dense, Flatten, Dropout, Activation\n",
        "from tensorflow.keras.preprocessing.image import ImageDataGenerator"
      ]
    },
    {
      "cell_type": "markdown",
      "source": [
        "**Using data augmentation to prevent the model from Overfitting**"
      ],
      "metadata": {
        "id": "YYK0xcvxlRsA"
      }
    },
    {
      "cell_type": "code",
      "execution_count": null,
      "metadata": {
        "id": "qz8YxlV4CmMw"
      },
      "outputs": [],
      "source": [
        "datagen = ImageDataGenerator(\n",
        "    rotation_range=20,\n",
        "    width_shift_range=0.2,\n",
        "    height_shift_range=0.2,\n",
        "    horizontal_flip=True,\n",
        "    validation_split=0.2)"
      ]
    },
    {
      "cell_type": "markdown",
      "source": [
        "**Bulding the model**"
      ],
      "metadata": {
        "id": "NZMH9ddTlq8k"
      }
    },
    {
      "cell_type": "code",
      "execution_count": null,
      "metadata": {
        "id": "0OwhYuI2CmMw"
      },
      "outputs": [],
      "source": [
        "model = Sequential()\n",
        "model.add(Conv2D(32, (3,3), 1,padding=\"same\", activation='relu', input_shape=(32,32,3)))\n",
        "model.add(Conv2D(32, (3,3), 1,padding=\"same\", activation='relu', input_shape=(32,32,3)))\n",
        "model.add(Conv2D(64, (3,3), 1,padding=\"same\", activation='relu'))\n",
        "model.add(Conv2D(64, (3,3), 1,padding=\"same\", activation='relu'))\n",
        "model.add(MaxPooling2D())\n",
        "model.add(Conv2D(128, (3,3), 1, activation='relu'))\n",
        "model.add(MaxPooling2D())\n",
        "model.add(Flatten())\n",
        "model.add(Dense(516, activation='relu'))\n",
        "model.add(Dense(64, activation='relu'))\n",
        "model.add(Dense(10))\n",
        "model.add(Activation('softmax'))\n",
        "model.compile(\"adam\", loss=tf.losses.CategoricalCrossentropy(), metrics=['accuracy'])"
      ]
    },
    {
      "cell_type": "code",
      "execution_count": null,
      "metadata": {
        "tags": [],
        "colab": {
          "base_uri": "https://localhost:8080/"
        },
        "id": "hVnt1-jPCmMx",
        "outputId": "97b54452-2f17-4ebb-bca5-3504454a6534"
      },
      "outputs": [
        {
          "output_type": "stream",
          "name": "stdout",
          "text": [
            "Model: \"sequential_2\"\n",
            "_________________________________________________________________\n",
            " Layer (type)                Output Shape              Param #   \n",
            "=================================================================\n",
            " conv2d_10 (Conv2D)          (None, 32, 32, 32)        896       \n",
            "                                                                 \n",
            " conv2d_11 (Conv2D)          (None, 32, 32, 32)        9248      \n",
            "                                                                 \n",
            " conv2d_12 (Conv2D)          (None, 32, 32, 64)        18496     \n",
            "                                                                 \n",
            " conv2d_13 (Conv2D)          (None, 32, 32, 64)        36928     \n",
            "                                                                 \n",
            " max_pooling2d_4 (MaxPooling  (None, 16, 16, 64)       0         \n",
            " 2D)                                                             \n",
            "                                                                 \n",
            " conv2d_14 (Conv2D)          (None, 14, 14, 128)       73856     \n",
            "                                                                 \n",
            " max_pooling2d_5 (MaxPooling  (None, 7, 7, 128)        0         \n",
            " 2D)                                                             \n",
            "                                                                 \n",
            " flatten_2 (Flatten)         (None, 6272)              0         \n",
            "                                                                 \n",
            " dense_6 (Dense)             (None, 516)               3236868   \n",
            "                                                                 \n",
            " dense_7 (Dense)             (None, 64)                33088     \n",
            "                                                                 \n",
            " dense_8 (Dense)             (None, 10)                650       \n",
            "                                                                 \n",
            " activation_2 (Activation)   (None, 10)                0         \n",
            "                                                                 \n",
            "=================================================================\n",
            "Total params: 3,410,030\n",
            "Trainable params: 3,410,030\n",
            "Non-trainable params: 0\n",
            "_________________________________________________________________\n"
          ]
        }
      ],
      "source": [
        "model.summary()"
      ]
    },
    {
      "cell_type": "markdown",
      "metadata": {
        "id": "MG5AfQHHCmMx"
      },
      "source": [
        "# Train"
      ]
    },
    {
      "cell_type": "code",
      "execution_count": null,
      "metadata": {
        "id": "4RH2VZryCmMx"
      },
      "outputs": [],
      "source": [
        "logdir='/content/logs'"
      ]
    },
    {
      "cell_type": "code",
      "execution_count": null,
      "metadata": {
        "id": "hEOxN5I_CmMy"
      },
      "outputs": [],
      "source": [
        "tensorboard_callback = tf.keras.callbacks.TensorBoard(log_dir=logdir)"
      ]
    },
    {
      "cell_type": "code",
      "execution_count": null,
      "metadata": {
        "tags": [],
        "id": "Q0vLrjnoCmMy"
      },
      "outputs": [],
      "source": [
        "hist = model.fit(datagen.flow(images,y_train), epochs=50, validation_data=datagen.flow(X_valid, y_val,\n",
        "         batch_size=8),steps_per_epoch=len(images) / 32, \n",
        "                 callbacks=[tensorboard_callback])"
      ]
    },
    {
      "cell_type": "markdown",
      "metadata": {
        "id": "PQvzv_CMCmMy"
      },
      "source": [
        "# Plot Performance"
      ]
    },
    {
      "cell_type": "code",
      "execution_count": null,
      "metadata": {
        "colab": {
          "base_uri": "https://localhost:8080/",
          "height": 294
        },
        "id": "CqGQVBrqCmMz",
        "outputId": "3db48b90-45b1-4e16-9fe8-aa068086aafd"
      },
      "outputs": [
        {
          "output_type": "display_data",
          "data": {
            "text/plain": [
              "<Figure size 432x288 with 1 Axes>"
            ],
            "image/png": "[encoded data removed]"
          },
          "metadata": {
            "needs_background": "light"
          }
        }
      ],
      "source": [
        "fig = plt.figure()\n",
        "plt.plot(hist.history['loss'], color='teal', label='loss')\n",
        "plt.plot(hist.history['val_loss'], color='orange', label='val_loss')\n",
        "fig.suptitle('Loss', fontsize=20)\n",
        "plt.legend(loc=\"upper left\")\n",
        "plt.show()"
      ]
    },
    {
      "cell_type": "code",
      "execution_count": null,
      "metadata": {
        "colab": {
          "base_uri": "https://localhost:8080/",
          "height": 294
        },
        "id": "Au78v6O7CmMz",
        "outputId": "c3ee4999-0d65-43f8-cd7f-e294fe8c18ff"
      },
      "outputs": [
        {
          "output_type": "display_data",
          "data": {
            "text/plain": [
              "<Figure size 432x288 with 1 Axes>"
            ],
            "image/png": "[encoded data removed]"
          },
          "metadata": {
            "needs_background": "light"
          }
        }
      ],
      "source": [
        "fig = plt.figure()\n",
        "plt.plot(hist.history['accuracy'], color='teal', label='accuracy')\n",
        "plt.plot(hist.history['val_accuracy'], color='orange', label='val_accuracy')\n",
        "fig.suptitle('Accuracy', fontsize=20)\n",
        "plt.legend(loc=\"upper left\")\n",
        "plt.show()"
      ]
    },
    {
      "cell_type": "markdown",
      "source": [
        "# Save the Model\n"
      ],
      "metadata": {
        "id": "Hr2Uq_dPmRmB"
      }
    },
    {
      "cell_type": "code",
      "source": [
        "model.save(os.path.join('models','imageclassifier.h5'))"
      ],
      "metadata": {
        "id": "faH_Q74rmd25"
      },
      "execution_count": null,
      "outputs": []
    },
    {
      "cell_type": "markdown",
      "metadata": {
        "id": "ZlunhVndCmMz"
      },
      "source": [
        "# Evaluate"
      ]
    },
    {
      "cell_type": "code",
      "execution_count": null,
      "metadata": {
        "id": "IdStei_HCmM0"
      },
      "outputs": [],
      "source": [
        "from tensorflow.keras.metrics import Precision, Recall, BinaryAccuracy"
      ]
    },
    {
      "cell_type": "code",
      "execution_count": null,
      "metadata": {
        "id": "a8gMPDAUCmM0"
      },
      "outputs": [],
      "source": [
        "pre = Precision()\n",
        "re = Recall()\n",
        "acc = BinaryAccuracy()"
      ]
    },
    {
      "cell_type": "code",
      "execution_count": null,
      "metadata": {
        "id": "U3-LH9t9CmM1"
      },
      "outputs": [],
      "source": [
        "test_dataset = tf.data.Dataset.from_tensor_slices((X_test, Y_test))"
      ]
    },
    {
      "cell_type": "code",
      "execution_count": null,
      "metadata": {
        "colab": {
          "base_uri": "https://localhost:8080/"
        },
        "id": "0eatPh0VCmM2",
        "outputId": "9b915d16-bae6-4025-b90e-632d7a783abd"
      },
      "outputs": [
        {
          "output_type": "stream",
          "name": "stdout",
          "text": [
            "313/313 [==============================] - 37s 119ms/step\n"
          ]
        },
        {
          "output_type": "execute_result",
          "data": {
            "text/plain": [
              "<tf.Variable 'UnreadVariable' shape=() dtype=float32, numpy=109980.0>"
            ]
          },
          "metadata": {},
          "execution_count": 70
        }
      ],
      "source": [
        "yhat = model.predict(X_test)\n",
        "pre.update_state(Y_test, yhat)\n",
        "re.update_state(Y_test, yhat)\n",
        "acc.update_state(Y_test, yhat)"
      ]
    },
    {
      "cell_type": "code",
      "execution_count": null,
      "metadata": {
        "colab": {
          "base_uri": "https://localhost:8080/"
        },
        "id": "IWwrFcMjCmM2",
        "outputId": "7d62f6ba-7939-439a-ea1b-9066514f4ca8"
      },
      "outputs": [
        {
          "output_type": "stream",
          "name": "stdout",
          "text": [
            "tf.Tensor(0.8368715, shape=(), dtype=float32) tf.Tensor(0.7491362, shape=(), dtype=float32) tf.Tensor(0.96031094, shape=(), dtype=float32)\n"
          ]
        }
      ],
      "source": [
        "print(pre.result(), re.result(), acc.result())"
      ]
    },
    {
      "cell_type": "markdown",
      "metadata": {
        "id": "cr5vdH30CmM2"
      },
      "source": [
        "# Test"
      ]
    },
    {
      "cell_type": "code",
      "execution_count": null,
      "metadata": {
        "id": "GQrEPqIhCmM2"
      },
      "outputs": [],
      "source": [
        "img = X_test[600]"
      ]
    },
    {
      "cell_type": "code",
      "source": [
        "from tensorflow.keras.models import load_model"
      ],
      "metadata": {
        "id": "T5IrldAcm12W"
      },
      "execution_count": null,
      "outputs": []
    },
    {
      "cell_type": "code",
      "source": [
        "new_model = load_model('/content/models/imageclassifier.h5')"
      ],
      "metadata": {
        "id": "H3a8aqpfm94z"
      },
      "execution_count": null,
      "outputs": []
    },
    {
      "cell_type": "code",
      "source": [
        "new_model.predict(np.expand_dims(img, 0))"
      ],
      "metadata": {
        "id": "ZRiTJJ0wnD6c"
      },
      "execution_count": null,
      "outputs": []
    }
  ],
  "metadata": {
    "kernelspec": {
      "display_name": "Python 3",
      "name": "python3"
    },
    "language_info": {
      "name": "python"
    },
    "colab": {
      "provenance": [],
      "collapsed_sections": []
    },
    "gpuClass": "standard"
  },
  "nbformat": 4,
  "nbformat_minor": 0
}